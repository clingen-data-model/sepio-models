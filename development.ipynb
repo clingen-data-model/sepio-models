{
 "cells": [
  {
   "cell_type": "markdown",
   "id": "yellow-trick",
   "metadata": {},
   "source": [
    "# Development Notebook\n",
    "\n",
    "This development notebook is for testing out LinkML models and exports.\n",
    "\n",
    "## Imports\n",
    "The below imports are from the [LinkML example notebook](https://nbviewer.jupyter.org/github/biolink/biolinkml/blob/master/notebooks/examples.ipynb)."
   ]
  },
  {
   "cell_type": "code",
   "execution_count": 1,
   "id": "traditional-wallpaper",
   "metadata": {},
   "outputs": [],
   "source": [
    "from IPython.core.display import display, HTML\n",
    "from types import ModuleType\n",
    "from json import loads, dumps\n",
    "from jsonasobj import JsonObj, as_json\n",
    "from rdflib import Graph\n",
    "\n",
    "from biolinkml.meta import SchemaDefinition\n",
    "from biolinkml.utils.schemaloader import SchemaLoader\n",
    "from biolinkml.utils.yamlutils import DupCheckYamlLoader, as_json_object as yaml_to_json\n",
    "\n",
    "from biolinkml.generators.shexgen import ShExGenerator\n",
    "from biolinkml.generators.pythongen import PythonGenerator\n",
    "from biolinkml.generators.yumlgen import YumlGenerator\n",
    "from biolinkml.generators.jsonldcontextgen import ContextGenerator"
   ]
  },
  {
   "cell_type": "code",
   "execution_count": 2,
   "id": "bigger-foster",
   "metadata": {},
   "outputs": [],
   "source": [
    "%reload_ext yamlmagic"
   ]
  },
  {
   "cell_type": "code",
   "execution_count": 12,
   "id": "european-vanilla",
   "metadata": {},
   "outputs": [
    {
     "data": {
      "application/javascript": [
       "\n",
       "            require(\n",
       "                [\n",
       "                    \"notebook/js/codecell\",\n",
       "                    \"codemirror/mode/yaml/yaml\"\n",
       "                ],\n",
       "                function(cc){\n",
       "                    cc.CodeCell.options_default.highlight_modes.magic_yaml = {\n",
       "                        reg: [\"^%%yaml\"]\n",
       "                    }\n",
       "                }\n",
       "            );\n",
       "            "
      ],
      "text/plain": [
       "<IPython.core.display.Javascript object>"
      ]
     },
     "metadata": {},
     "output_type": "display_data"
    }
   ],
   "source": [
    "%%yaml yaml\n",
    "\n",
    "id: http://example.org/variation\n",
    "name: variation\n",
    "    \n",
    "default_curi_maps:\n",
    "    - semweb_context\n",
    "    \n",
    "emit_prefixes:\n",
    "    - xsd\n",
    "    \n",
    "types:\n",
    "  string:\n",
    "    base: str\n",
    "    uri: xsd:string\n",
    "\n",
    "classes:\n",
    "\n",
    "# Variation\n",
    "    variation profile:\n",
    "        slots:\n",
    "            - label\n",
    "            - members\n",
    "            - description\n",
    "            - logical operator\n",
    "            \n",
    "    variation:\n",
    "        slots:\n",
    "            - label\n",
    "            \n",
    "    variation or variation profile:\n",
    "        union_of:\n",
    "            - variation\n",
    "            - variation profile\n",
    "        \n",
    "slots:\n",
    "    label:\n",
    "        description: human readable label\n",
    "    members:\n",
    "        multivalued: true\n",
    "        required: true\n",
    "        range: variation or variation profile\n",
    "    description:\n",
    "        range: string\n",
    "    logical operator:\n",
    "        range: string\n",
    "        \n",
    "        "
   ]
  },
  {
   "cell_type": "code",
   "execution_count": 13,
   "id": "induced-poland",
   "metadata": {},
   "outputs": [
    {
     "data": {
      "text/html": [
       "<img src=\"http://yuml.me/diagram/nofunky;dir:TB/class/[VariationOrVariationProfile]<members 1..*-++[VariationProfile|label:string %3F;description:string %3F;logical_operator:string %3F],[VariationProfile]++- members 1..*>[VariationOrVariationProfile],[Variation|label:string %3F]\"/>"
      ],
      "text/plain": [
       "<IPython.core.display.HTML object>"
      ]
     },
     "metadata": {},
     "output_type": "display_data"
    }
   ],
   "source": [
    "display(HTML(f'<img src=\"{YumlGenerator(yaml).serialize()}\"/>'))"
   ]
  },
  {
   "cell_type": "code",
   "execution_count": 9,
   "id": "stylish-reliance",
   "metadata": {},
   "outputs": [
    {
     "data": {
      "text/plain": [
       "{'id': 'http://example.org/variation',\n",
       " 'name': 'variation',\n",
       " 'types': {'string': {'base': 'str', 'uri': 'xsd:string'}},\n",
       " 'classes': {'variation profile': {'slots': ['label',\n",
       "    'members',\n",
       "    'description',\n",
       "    'logical operator']},\n",
       "  'variation': {'slots': ['label']},\n",
       "  'variation or variation profile': {'union_of': ['variation',\n",
       "    'variation profile']}},\n",
       " 'slots': {'label': {'description': 'human readable label'},\n",
       "  'members': {'multivalued': True,\n",
       "   'required': True,\n",
       "   'range': 'variation or variation profile'},\n",
       "  'description': {'range': 'string'},\n",
       "  'logical operator': {'range': 'string'}}}"
      ]
     },
     "execution_count": 9,
     "metadata": {},
     "output_type": "execute_result"
    }
   ],
   "source": [
    "yaml"
   ]
  },
  {
   "cell_type": "code",
   "execution_count": null,
   "id": "graduate-filing",
   "metadata": {},
   "outputs": [],
   "source": []
  }
 ],
 "metadata": {
  "kernelspec": {
   "display_name": "Python 3",
   "language": "python",
   "name": "python3"
  },
  "language_info": {
   "codemirror_mode": {
    "name": "ipython",
    "version": 3
   },
   "file_extension": ".py",
   "mimetype": "text/x-python",
   "name": "python",
   "nbconvert_exporter": "python",
   "pygments_lexer": "ipython3",
   "version": "3.9.1"
  }
 },
 "nbformat": 4,
 "nbformat_minor": 5
}
